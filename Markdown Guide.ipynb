{
 "cells": [
  {
   "cell_type": "markdown",
   "metadata": {},
   "source": [
    "## What is markdown?\n",
    "Markdown is a standard plain text formatting syntax. Markdown is readable as plain text but includes the ability to add text modifiers like code-snippets, lists, bold, italics, etc.  To format text, Markdown uses punctuation and characters you're already familiar with.  \n",
    "\n",
    "## Quick reference\n",
    "\n",
    "Headers are created using \\#. Use multiple \\#\\#\\# for less emphasis. For example:\n",
    ">\\# This is equivalent to an &lt;h1> tag\n",
    "\n",
    ">\\##### This is equivalent to an &lt;h5> tag\n",
    "\n",
    "To make text **bold** surround it with \\*\\*two asterisks\\*\\*. \n",
    "\n",
    "To make text *italic* use a \\*single asterisk\\* or \\_underscore\\_. \n",
    "\n",
    "_**Bold** inside italics_ and **vice-_versa_** also work. \n",
    "\n",
    "~~Strikethrough~~ uses \\~\\~two tildes\\~\\~ \n",
    "\n",
    "`monospace` (such as code) uses \\`backtick\\`.\n",
    "\n",
    "Blocks are indented with \\>, and multiple levels of indentation are indicated by repetition: \\>\\>\\> indents three levels.\n",
    "\n",
    "Ordered lists are created by typing any number followed by a period at the beginning of a line. \n",
    "\n",
    "Unordered lists are \\* or - at the beginning of a line. Lists can be nested by indenting using two spaces (or tabs) for each level of nesting.\n",
    "\n",
    "[Links](https://https://gradient.paperspace.com/) are created with \\[brackets around the linked text\\](and-parentheses-around-the-url.html). URLs like https://gradient.paperspace.com/, will automatically converted to links automatically.\n",
    "\n",
    "A '!' character in front of a link turns it into an inline image link: !\\[Alt text]\\(https://user-images.githubusercontent.com/585865/65443342-e630d300-ddfb-11e9-9bcd-de1d2033ea60.png).\n",
    "\n",
    "Horizontal rules are created with three or more hyphens, underscores, or asterisks (\\-\\-\\-, \\_\\_\\_, or \\*\\*\\*) on their own line.\n",
    "\n",
    "Tables are created using \\-\\-\\- for the boundary between the column header and columns and \\| between the columns.\n",
    "\n",
    "Please see also [GitHub's documentation](https://help.github.com/articles/basic-writing-and-formatting-syntax/) for a similar version of markdown."
   ]
  },
  {
   "cell_type": "code",
   "execution_count": null,
   "metadata": {},
   "outputs": [],
   "source": []
  }
 ],
 "metadata": {
  "kernelspec": {
   "display_name": "Python 3",
   "language": "python",
   "name": "python3"
  },
  "language_info": {
   "codemirror_mode": {
    "name": "ipython",
    "version": 3
   },
   "file_extension": ".py",
   "mimetype": "text/x-python",
   "name": "python",
   "nbconvert_exporter": "python",
   "pygments_lexer": "ipython3",
   "version": "3.6.8"
  }
 },
 "nbformat": 4,
 "nbformat_minor": 4
}
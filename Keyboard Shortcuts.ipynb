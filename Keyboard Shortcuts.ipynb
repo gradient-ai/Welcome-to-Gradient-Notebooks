{
 "cells": [
  {
   "cell_type": "markdown",
   "metadata": {},
   "source": [
    "# Keyboard Shortcuts\n",
    "\n",
    "Below, you’ll find a list of some of Jupyter’s keyboard shortcuts. \n",
    "* Toggle between edit and command mode with Esc and Enter, respectively.\n",
    "\n",
    "Once in command mode:\n",
    "* Scroll up and down your cells with your Up and Down keys.\n",
    "* Press A or B to insert a new cell above or below the active cell.\n",
    "* M will transform the active cell to a Markdown cell.\n",
    "* Y will set the active cell to a code cell.\n",
    "* D + D (D twice) will delete the active cell.\n",
    "* Z will undo cell deletion.\n",
    "* Hold Shift and press Up or Down to select multiple cells at once.\n",
    "    * With multiple cells selected, Shift + M will merge your selection.\n",
    "* Ctrl + Shift + -, in edit mode, will split the active cell at the cursor.\n",
    "* You can also click and Shift + Click in the margin to the left of your cells to select them."
   ]
  }
 ],
 "metadata": {
  "kernelspec": {
   "display_name": "Python 3",
   "language": "python",
   "name": "python3"
  },
  "language_info": {
   "codemirror_mode": {
    "name": "ipython",
    "version": 3
   },
   "file_extension": ".py",
   "mimetype": "text/x-python",
   "name": "python",
   "nbconvert_exporter": "python",
   "pygments_lexer": "ipython3",
   "version": "3.6.8"
  }
 },
 "nbformat": 4,
 "nbformat_minor": 4
}
